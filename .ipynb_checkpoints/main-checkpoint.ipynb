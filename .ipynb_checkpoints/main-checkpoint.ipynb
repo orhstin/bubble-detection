{
 "cells": [
  {
   "cell_type": "code",
   "execution_count": 5,
   "id": "379925a1-3036-4c71-91b9-76762a5d738e",
   "metadata": {},
   "outputs": [
    {
     "name": "stdout",
     "output_type": "stream",
     "text": [
      "844\n"
     ]
    }
   ],
   "source": [
    "import os\n",
    "data_loc = \"compressor-data/data-202107\"\n",
    "files = os.listdir(data_loc)\n",
    "\n",
    "files_len = len(files)\n",
    "print(files_len)"
   ]
  },
  {
   "cell_type": "code",
   "execution_count": 6,
   "id": "d6c97a9e-599b-4075-bed8-346872ba2087",
   "metadata": {},
   "outputs": [
    {
     "name": "stdout",
     "output_type": "stream",
     "text": [
      "Collecting opencv-python\n",
      "  Using cached opencv_python-4.7.0.72-cp37-abi3-macosx_11_0_arm64.whl (32.6 MB)\n",
      "Collecting numpy>=1.21.2\n",
      "  Downloading numpy-1.24.2-cp311-cp311-macosx_11_0_arm64.whl (13.8 MB)\n",
      "\u001b[2K     \u001b[90m━━━━━━━━━━━━━━━━━━━━━━━━━━━━━━━━━━━━━━━━\u001b[0m \u001b[32m13.8/13.8 MB\u001b[0m \u001b[31m21.8 MB/s\u001b[0m eta \u001b[36m0:00:00\u001b[0m00:01\u001b[0m00:01\u001b[0m\n",
      "\u001b[?25hInstalling collected packages: numpy, opencv-python\n",
      "Successfully installed numpy-1.24.2 opencv-python-4.7.0.72\n"
     ]
    }
   ],
   "source": [
    "!pip install opencv-python"
   ]
  },
  {
   "cell_type": "code",
   "execution_count": 9,
   "id": "11ea3e60-4b43-4275-ac2f-0f56d4760232",
   "metadata": {},
   "outputs": [],
   "source": [
    "import cv2\n",
    "\n",
    "def count_frames(file, override=False):\n",
    "    video = cv2.VideoCapture(file)\n",
    "    total = 0\n",
    "    total = int(video.get(cv2.CAP_PROP_FRAME_COUNT))\n",
    "    print(total)"
   ]
  },
  {
   "cell_type": "code",
   "execution_count": 25,
   "id": "2c3e0a11-c20d-4d18-b4db-018f12a8b500",
   "metadata": {},
   "outputs": [
    {
     "name": "stdout",
     "output_type": "stream",
     "text": [
      "/Users/austin/Desktop/bubble detection/compressor-data/data-202107/20210726-084742.12.mp4\n"
     ]
    }
   ],
   "source": [
    "file_path = os.path.abspath(data_loc) + \"/\" + files[0]\n",
    "print(file_path)"
   ]
  },
  {
   "cell_type": "code",
   "execution_count": 28,
   "id": "3588dc75-e94b-415c-9fb5-e4a338803c5b",
   "metadata": {},
   "outputs": [
    {
     "name": "stderr",
     "output_type": "stream",
     "text": [
      "OpenCV: Couldn't read video stream from file \"test.mp4\"\n"
     ]
    }
   ],
   "source": [
    "VIDEO = cv2.VideoCapture(\"test.avi\")"
   ]
  },
  {
   "cell_type": "code",
   "execution_count": null,
   "id": "ae42b958-1d6e-4317-ae61-6dbe1005cbe8",
   "metadata": {},
   "outputs": [],
   "source": []
  }
 ],
 "metadata": {
  "kernelspec": {
   "display_name": "Python 3 (ipykernel)",
   "language": "python",
   "name": "python3"
  },
  "language_info": {
   "codemirror_mode": {
    "name": "ipython",
    "version": 3
   },
   "file_extension": ".py",
   "mimetype": "text/x-python",
   "name": "python",
   "nbconvert_exporter": "python",
   "pygments_lexer": "ipython3",
   "version": "3.11.0"
  }
 },
 "nbformat": 4,
 "nbformat_minor": 5
}
