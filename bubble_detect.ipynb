{
 "cells": [
  {
   "cell_type": "code",
   "execution_count": 1,
   "id": "fa58df90",
   "metadata": {},
   "outputs": [],
   "source": [
    "import os\n",
    "import cv2\n",
    "import numpy as np\n",
    "from datetime import timedelta\n",
    "from matplotlib import pyplot as plt\n",
    "import matplotlib"
   ]
  },
  {
   "cell_type": "code",
   "execution_count": 2,
   "id": "379925a1-3036-4c71-91b9-76762a5d738e",
   "metadata": {},
   "outputs": [
    {
     "name": "stdout",
     "output_type": "stream",
     "text": [
      "803\n"
     ]
    }
   ],
   "source": [
    "data_loc = \"compressor-data/\"\n",
    "files = os.listdir(data_loc)\n",
    "\n",
    "files_len = len(files)\n",
    "print(files_len)\n",
    "\n",
    "MAX_FRAMES_PER_SECOND = 10"
   ]
  },
  {
   "cell_type": "code",
   "execution_count": 3,
   "id": "842926f9",
   "metadata": {},
   "outputs": [],
   "source": [
    "def format_timedelta(td):\n",
    "    result = str(td)\n",
    "    try:\n",
    "        result, ms = result.split(\".\")\n",
    "    except ValueError:\n",
    "        return (result + \".00\").replace(\":\", \"-\")\n",
    "    ms = int(ms)\n",
    "    ms = round(ms / 1e4)\n",
    "    return f\"{result}.{ms:02}\".replace(\":\",\"-\")"
   ]
  },
  {
   "cell_type": "code",
   "execution_count": 4,
   "id": "9b4e3286",
   "metadata": {},
   "outputs": [],
   "source": [
    "def get_saving_frames_durations(cap, saving_fps):\n",
    "    s = []\n",
    "    clip_duration = cap.get(cv2.CAP_PROP_FRAME_COUNT) / cap.get(cv2.CAP_PROP_FPS)\n",
    "\n",
    "    for i in np.arange(0, clip_duration, 1/saving_fps):\n",
    "        s.append(i)\n",
    "    \n",
    "    return s"
   ]
  },
  {
   "cell_type": "code",
   "execution_count": 5,
   "id": "11ea3e60-4b43-4275-ac2f-0f56d4760232",
   "metadata": {},
   "outputs": [],
   "source": [
    "def video_analyze(file, override=False):\n",
    "    video = cv2.VideoCapture(file)\n",
    "    total_frames = int(video.get(cv2.CAP_PROP_FRAME_COUNT))\n",
    "    print(\"Total frames = \" + str(total_frames))\n",
    "\n",
    "    fps = video.get(cv2.CAP_PROP_FPS)\n",
    "    print(\"FPS = \" + str(fps))"
   ]
  },
  {
   "cell_type": "code",
   "execution_count": 6,
   "id": "161ef101",
   "metadata": {},
   "outputs": [
    {
     "name": "stdout",
     "output_type": "stream",
     "text": [
      "Total frames = 380\n",
      "FPS = 10.0\n"
     ]
    }
   ],
   "source": [
    "file_name = data_loc + files[0]\n",
    "video_analyze(file_name)"
   ]
  },
  {
   "cell_type": "code",
   "execution_count": 7,
   "id": "033e2982",
   "metadata": {},
   "outputs": [],
   "source": [
    "def video_into_frames(video_file):\n",
    "    filename, _ = os.path.splitext(video_file)\n",
    "    filename += \"-opencv\"\n",
    "\n",
    "    if not os.path.isdir(filename):\n",
    "        os.mkdir(filename)\n",
    "    \n",
    "    cap = cv2.VideoCapture(video_file)\n",
    "    fps = cap.get(cv2.CAP_PROP_FPS)\n",
    "    saving_frames_per_second = min(fps, MAX_FRAMES_PER_SECOND)\n",
    "    saving_frames_duration = get_saving_frames_durations(cap, saving_frames_per_second)\n",
    "\n",
    "    count = 0\n",
    "    while True:\n",
    "        is_read, frame = cap.read()\n",
    "        if not is_read:\n",
    "            break\n",
    "            \n",
    "        frame_duration = count/fps\n",
    "        try:\n",
    "            closest_duration = saving_frames_duration[0]\n",
    "        except IndexError:\n",
    "            break\n",
    "\n",
    "        if frame_duration >= closest_duration:\n",
    "            frame_duration_formatted = format_timedelta(timedelta(seconds=frame_duration))\n",
    "            cv2.imwrite(os.path.join(filename, f\"frame{frame_duration_formatted}.jpg\"), frame)\n",
    "\n",
    "            try:\n",
    "                saving_frames_duration.pop(0)\n",
    "            except IndexError:\n",
    "                pass\n",
    "        \n",
    "        count += 1"
   ]
  },
  {
   "cell_type": "code",
   "execution_count": 8,
   "id": "b7cc2cc2",
   "metadata": {},
   "outputs": [],
   "source": [
    "video_into_frames(data_loc + \"20210628-081000.03.mp4\")"
   ]
  },
  {
   "cell_type": "code",
   "execution_count": 9,
   "id": "48d342b7",
   "metadata": {},
   "outputs": [],
   "source": [
    "from IPython.display import Image"
   ]
  },
  {
   "cell_type": "code",
   "execution_count": 10,
   "id": "79ce7cda",
   "metadata": {},
   "outputs": [],
   "source": [
    "# contours, hier = cv2.findContours(im_gray, cv2.RETR_LIST, cv2.CHAIN_APPROX_SIMPLE)\n",
    "# result = cv2.imread(\"gray.png\")\n",
    "\n",
    "# bubbles = []\n",
    "# for cnt in contours:\n",
    "#     if 0<cv2.contourArea(cnt)<300:\n",
    "#         cv2.drawContours(original_image, cnt, -1, (0,0,255), 2)\n",
    "#         bubbles.append(cnt)\n",
    "\n",
    "\n",
    "# cv2.imwrite(\"result.png\", original_image)\n",
    "# Image(filename=\"result.png\")\n"
   ]
  },
  {
   "cell_type": "code",
   "execution_count": 11,
   "id": "287d029d",
   "metadata": {},
   "outputs": [],
   "source": [
    "def image_crop(image):\n",
    "    black_mask = np.zeros_like(image)\n",
    "    black_mask[:,:] = [255,255,255]\n",
    "\n",
    "    # Cover top\n",
    "    start_point = (0,0)\n",
    "    end_point = (1280,90)\n",
    "    color = (0,0,0)\n",
    "\n",
    "    black_mask = cv2.rectangle(black_mask, start_point, end_point, color, -1)\n",
    "    image = cv2.bitwise_and(image, black_mask)\n",
    "\n",
    "    start_point = (0, 450)\n",
    "    end_point = (1280, 720)\n",
    "    black_mask = cv2.rectangle(black_mask, start_point, end_point, color, -1)\n",
    "    image = cv2.bitwise_and(image, black_mask)\n",
    "\n",
    "    return image"
   ]
  },
  {
   "cell_type": "code",
   "execution_count": 12,
   "id": "a2b76852",
   "metadata": {},
   "outputs": [],
   "source": [
    "def grayscale_blur(image):\n",
    "    image = cv2.cvtColor(image, cv2.COLOR_BGR2GRAY)\n",
    "    image = cv2.GaussianBlur(image, (7,7), 0)\n",
    "    th, image = cv2.threshold(image, 127, 255, 0)\n",
    "\n",
    "    return image"
   ]
  },
  {
   "cell_type": "code",
   "execution_count": 13,
   "id": "be00f345",
   "metadata": {},
   "outputs": [],
   "source": [
    "def blob_extraction(image, result):\n",
    "    result = cv2.connectedComponentsWithStats(result, 4, cv2.CV_32S)\n",
    "    (numLabels, labels, stats, centroids) = result\n",
    "    \n",
    "    for centroid in centroids:\n",
    "        cv2.circle(image, (int(centroid[0]), int(centroid[1])), 7, (0, 255, 0), 1)\n",
    "    \n",
    "    return image"
   ]
  },
  {
   "cell_type": "code",
   "execution_count": 14,
   "id": "4df4ec42",
   "metadata": {},
   "outputs": [],
   "source": [
    "folder_path = \"compressor-data/\" + \"20210628-081000.03-opencv/\"\n",
    "output_path = \"compressor-data/\" + \"20210628-081000.03-opencv-output/\"\n",
    "image_list = sorted(os.listdir(folder_path))\n",
    "\n",
    "for file in image_list:\n",
    "    if str(file)[-3:] == \"jpg\":\n",
    "        image = cv2.imread(folder_path + file)\n",
    "        result = image_crop(image)\n",
    "        result = grayscale_blur(result)\n",
    "        image = blob_extraction(image, result)\n",
    "        cv2.imwrite(os.path.join(output_path, file), image)"
   ]
  },
  {
   "cell_type": "code",
   "execution_count": 15,
   "id": "dc1f26c2",
   "metadata": {},
   "outputs": [
    {
     "name": "stderr",
     "output_type": "stream",
     "text": [
      "OpenCV: FFMPEG: tag 0x5634504d/'MP4V' is not supported with codec id 12 and format 'mp4 / MP4 (MPEG-4 Part 14)'\n",
      "OpenCV: FFMPEG: fallback to use tag 0x7634706d/'mp4v'\n"
     ]
    }
   ],
   "source": [
    "image_array = []\n",
    "for file in sorted(os.listdir(output_path)):\n",
    "    if str(file)[-3:] == \"jpg\":\n",
    "        image = cv2.imread(output_path + file)\n",
    "        height, width, layers = image.shape\n",
    "        size = (width, height)\n",
    "        image_array.append(image)\n",
    "\n",
    "out = cv2.VideoWriter(output_path + 'result.mp4', cv2.VideoWriter_fourcc(*'MP4V'), 10, size)\n",
    "\n",
    "for i in range(len(image_array)):\n",
    "    out.write(image_array[i])\n",
    "\n",
    "out.release()"
   ]
  }
 ],
 "metadata": {
  "kernelspec": {
   "display_name": "Python 3.11.0 ('bubble-detection')",
   "language": "python",
   "name": "python3"
  },
  "language_info": {
   "codemirror_mode": {
    "name": "ipython",
    "version": 3
   },
   "file_extension": ".py",
   "mimetype": "text/x-python",
   "name": "python",
   "nbconvert_exporter": "python",
   "pygments_lexer": "ipython3",
   "version": "3.11.0"
  },
  "vscode": {
   "interpreter": {
    "hash": "a6053df4d9ee3a226a4d6c9e76fa7c8be35b29adf07d969fe9b4008db7bd9905"
   }
  }
 },
 "nbformat": 4,
 "nbformat_minor": 5
}
